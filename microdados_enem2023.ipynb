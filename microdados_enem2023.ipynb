{
 "cells": [
  {
   "cell_type": "markdown",
   "id": "88801876",
   "metadata": {},
   "source": [
    "# Microdados do Enem 2023"
   ]
  },
  {
   "cell_type": "code",
   "execution_count": null,
   "id": "31383eed",
   "metadata": {},
   "outputs": [],
   "source": [
    "import pandas as pd\n",
    "import geopandas as gpd\n",
    "import numpy as np\n",
    "import matplotlib\n",
    "import matplotlib.pyplot as plt"
   ]
  },
  {
   "cell_type": "code",
   "execution_count": null,
   "id": "06bf5799",
   "metadata": {},
   "outputs": [],
   "source": [
    "enem = pd.read_csv('MICRODADOS_ENEM_2023.csv', sep=';', encoding='ISO-8859-1')"
   ]
  },
  {
   "cell_type": "code",
   "execution_count": null,
   "id": "741782c4",
   "metadata": {
    "scrolled": true
   },
   "outputs": [],
   "source": [
    "enem"
   ]
  },
  {
   "cell_type": "markdown",
   "id": "ffb57bf8",
   "metadata": {},
   "source": [
    "### Análise Exploratória:"
   ]
  },
  {
   "cell_type": "markdown",
   "id": "15e4d9c4",
   "metadata": {},
   "source": [
    "Para realizar a análise dos dados, irei repartir o dataframe em 'dataframes' menores, utilizando a divisão apresentada no dicionario de variáveis que acompanha o download dos microdados. A divisão é: dados do participante, da escola, do local de aplicação da prova, da prova objetiva, da redação e do questionário socieconômico"
   ]
  },
  {
   "cell_type": "code",
   "execution_count": null,
   "id": "7f7e6121",
   "metadata": {},
   "outputs": [],
   "source": [
    "#print(enem.columns.tolist())"
   ]
  },
  {
   "cell_type": "code",
   "execution_count": null,
   "id": "f5fbba79",
   "metadata": {},
   "outputs": [],
   "source": [
    "dados_do_participante = enem.filter(items=['NU_INSCRICAO', 'NU_ANO', 'TP_FAIXA_ETARIA', 'TP_SEXO',\n",
    " 'TP_ESTADO_CIVIL', 'TP_COR_RACA', 'TP_NACIONALIDADE', 'TP_ST_CONCLUSAO', 'TP_ANO_CONCLUIU',\n",
    " 'TP_ESCOLA', 'TP_ENSINO', 'IN_TREINEIRO'])\n",
    "\n",
    "dados_da_escola = enem.filter(items=['CO_MUNICIPIO_ESC', 'NO_MUNICIPIO_ESC', 'CO_UF_ESC',\n",
    " 'SG_UF_ESC', 'TP_DEPENDENCIA_ADM_ESC', 'TP_LOCALIZACAO_ESC', 'TP_SIT_FUNC_ESC'])\n",
    "\n",
    "dados_local_aplicacao = enem.filter(items=['CO_MUNICIPIO_PROVA', 'NO_MUNICIPIO_PROVA',\n",
    " 'CO_UF_PROVA', 'SG_UF_PROVA'])\n",
    "\n",
    "dados_prova_objetiva = enem.filter(items=['TP_PRESENCA_CN', 'TP_PRESENCA_CH', 'TP_PRESENCA_LC',\n",
    " 'TP_PRESENCA_MT', 'CO_PROVA_CN', 'CO_PROVA_CH', 'CO_PROVA_LC', 'CO_PROVA_MT', 'NU_NOTA_CN',\n",
    " 'NU_NOTA_CH', 'NU_NOTA_LC', 'NU_NOTA_MT', 'TX_RESPOSTAS_CN', 'TX_RESPOSTAS_CH', 'TX_RESPOSTAS_LC',\n",
    " 'TX_RESPOSTAS_MT', 'TP_LINGUA', 'TX_GABARITO_CN', 'TX_GABARITO_CH', 'TX_GABARITO_LC', 'TX_GABARITO_MT'])\n",
    "\n",
    "dados_redacao = enem.filter(items=['TP_STATUS_REDACAO', 'NU_NOTA_COMP1', 'NU_NOTA_COMP2', \n",
    "'NU_NOTA_COMP3', 'NU_NOTA_COMP4', 'NU_NOTA_COMP5', 'NU_NOTA_REDACAO'])\n",
    "\n",
    "dados_quest_socioeco = enem.filter(items=['Q001', 'Q002', 'Q003', 'Q004', 'Q005', 'Q006', 'Q007', \n",
    "'Q008', 'Q009', 'Q010', 'Q011', 'Q012', 'Q013', 'Q014', 'Q015', 'Q016', 'Q017', 'Q018', 'Q019', \n",
    "'Q020', 'Q021', 'Q022', 'Q023', 'Q024', 'Q025'])"
   ]
  },
  {
   "cell_type": "markdown",
   "id": "01cfba30",
   "metadata": {},
   "source": [
    "### Idade dos candidatos"
   ]
  },
  {
   "cell_type": "code",
   "execution_count": null,
   "id": "b776d094",
   "metadata": {
    "scrolled": true
   },
   "outputs": [],
   "source": [
    "idade = dados_do_participante['TP_FAIXA_ETARIA']\n",
    "legenda = ['Menor de 17 anos', \n",
    "           '17 anos', \n",
    "           '18 anos', \n",
    "           '19 anos', \n",
    "           '20 anos', \n",
    "           '21 anos', \n",
    "           '22 anos', \n",
    "           '23 anos', \n",
    "           '24 anos', \n",
    "           '25 anos', \n",
    "           'Entre 26 e 30 anos', \n",
    "           'Entre 31 e 35 anos', \n",
    "           'Entre 36 e 40 anos', \n",
    "           'Entre 41 e 45 anos', \n",
    "           'Entre 46 e 50 anos', \n",
    "           'Entre 51 e 55 anos', \n",
    "           'Entre 56 e 60 anos', \n",
    "           'Entre 61 e 65 anos', \n",
    "           'Entre 66 e 70 anos', \n",
    "           'Maior de 70 anos']\n",
    "\n",
    "dic_idade = dict(zip(legenda, \n",
    "                     idade.value_counts().sort_index().tolist()\n",
    "                    )\n",
    "                )\n",
    "dic_idade"
   ]
  },
  {
   "cell_type": "code",
   "execution_count": null,
   "id": "ac224c15",
   "metadata": {
    "scrolled": true
   },
   "outputs": [],
   "source": [
    "chaves = list(dic_idade.keys())\n",
    "valores = list(dic_idade.values())\n",
    "\n",
    "plt.figure(figsize=(8,2.5))\n",
    "plt.bar(chaves, valores, color='lightseagreen')\n",
    "\n",
    "plt.xticks(rotation=45, ha='right')\n",
    "plt.yticks(np.arange(0, 1000001, 100000),\n",
    "           labels=['0'] + [f\"{i}.000\" for i in range(100, 1001, 100)]\n",
    "          )\n",
    "plt.yticks(np.arange(0, 1000001, 50000), minor=True)\n",
    "\n",
    "plt.grid(which='major', axis='y', linestyle='--', linewidth='0.5', color='green')\n",
    "plt.grid(which='minor', axis='y', linestyle='-', linewidth='0.15', color='grey')\n",
    "\n",
    "plt.title('Candidatos em cada faixa etária')\n",
    "plt.ylabel('Número de candidatos')\n",
    "\n",
    "plt.show()"
   ]
  },
  {
   "cell_type": "markdown",
   "id": "a94f6a39",
   "metadata": {},
   "source": [
    "Alguns anos após o ensino médio, há um constante declínio no número de candidatos até que, aos 30 anos de idade, temos um novo pico de candidatos nessa faixa etária"
   ]
  },
  {
   "cell_type": "markdown",
   "id": "fc1a1135",
   "metadata": {},
   "source": [
    "### Neste dataset, não é mostrado o lugar em que a pessoa mora, mas sim onde fica sua escola. Logo, todos os participantes que não estão na escola não apresentam informação sobre sua localização"
   ]
  },
  {
   "cell_type": "code",
   "execution_count": null,
   "id": "7d21377f",
   "metadata": {},
   "outputs": [],
   "source": [
    "estados_siglas = dados_da_escola['SG_UF_ESC']"
   ]
  },
  {
   "cell_type": "code",
   "execution_count": null,
   "id": "5c805b45",
   "metadata": {},
   "outputs": [],
   "source": [
    "estados_siglas_cont = estados_siglas.isnull().value_counts()"
   ]
  },
  {
   "cell_type": "code",
   "execution_count": null,
   "id": "edfdde53",
   "metadata": {},
   "outputs": [],
   "source": [
    "porc = [100*x/estados_siglas_cont.sum() for x in estados_siglas_cont]\n",
    "porc"
   ]
  },
  {
   "cell_type": "markdown",
   "id": "5a9b0244",
   "metadata": {},
   "source": [
    "Aproxidamente 24% dos candidatos não estão na escola"
   ]
  },
  {
   "cell_type": "code",
   "execution_count": null,
   "id": "a0c9fd5d",
   "metadata": {},
   "outputs": [],
   "source": [
    "alunos_por_estado = dict(zip(estados_siglas.value_counts().index.tolist(),\n",
    "                             estados_siglas.value_counts().values.tolist()\n",
    "                            )\n",
    "                        )"
   ]
  },
  {
   "cell_type": "code",
   "execution_count": null,
   "id": "0d476870",
   "metadata": {},
   "outputs": [],
   "source": [
    "brasil = gpd.read_file('brazil_geo.json')\n",
    "brasil['dados'] = brasil['id'].map(alunos_por_estado)"
   ]
  },
  {
   "cell_type": "code",
   "execution_count": null,
   "id": "4e48a639",
   "metadata": {},
   "outputs": [],
   "source": [
    "fig, ax = plt.subplots(1, figsize=(12, 12))\n",
    "brasil.plot(column='dados', cmap='BuGn', linewidth=0.7, ax=ax, edgecolor='0.8')\n",
    "\n",
    "\n",
    "for index, row in brasil.iterrows():\n",
    "    plt.annotate(\n",
    "        text = row['id'],\n",
    "        xy = row['geometry'].centroid.coords[0], \n",
    "        ha = 'center', \n",
    "        va = 'center')\n",
    "\n",
    "\n",
    "sm = matplotlib.cm.ScalarMappable(\n",
    "    cmap='BuGn', \n",
    "    norm=matplotlib.colors.Normalize(\n",
    "        vmin=brasil['dados'].min(), \n",
    "        vmax=brasil['dados'].max()\n",
    "    )\n",
    ")\n",
    "sm._A = []\n",
    "cbar = fig.colorbar(sm, ax=ax, orientation='vertical', label='Valor') \n",
    "\n",
    "ax.set_title('Candidatos por Estado\\n(até 3º Ensino Médio)')\n",
    "ax.set_axis_off()\n",
    "plt.show()"
   ]
  },
  {
   "cell_type": "markdown",
   "id": "f75855b6",
   "metadata": {},
   "source": [
    "### Porcentagem de homens e mulheres"
   ]
  },
  {
   "cell_type": "code",
   "execution_count": null,
   "id": "b67cb984",
   "metadata": {},
   "outputs": [],
   "source": [
    "serie_sexos = dados_do_participante['TP_SEXO'].value_counts()\n",
    "serie_sexos"
   ]
  },
  {
   "cell_type": "code",
   "execution_count": null,
   "id": "b07308d3",
   "metadata": {},
   "outputs": [],
   "source": [
    "sex_porcentagem = [100*x/serie_sexos.sum() for x in serie_sexos]\n",
    "sex_porcentagem"
   ]
  },
  {
   "cell_type": "markdown",
   "id": "0c7bdfe0",
   "metadata": {},
   "source": [
    "Relação 60/40 entre mulheres e homens"
   ]
  },
  {
   "cell_type": "markdown",
   "id": "9e93367f",
   "metadata": {},
   "source": [
    "### Redação dividida entre homens e mulheres"
   ]
  },
  {
   "cell_type": "code",
   "execution_count": null,
   "id": "d8213856",
   "metadata": {},
   "outputs": [],
   "source": [
    "redacao_e_sexo = pd.concat([dados_do_participante['TP_SEXO'], dados_redacao['NU_NOTA_REDACAO']], axis=1)\n",
    "redacao_e_sexo = redacao_e_sexo.dropna()"
   ]
  },
  {
   "cell_type": "code",
   "execution_count": null,
   "id": "e02f7298",
   "metadata": {},
   "outputs": [],
   "source": [
    "notas_fem = redacao_e_sexo[redacao_e_sexo['TP_SEXO'] == 'F']['NU_NOTA_REDACAO']\n",
    "notas_masc = redacao_e_sexo[redacao_e_sexo['TP_SEXO'] == 'M']['NU_NOTA_REDACAO']"
   ]
  },
  {
   "cell_type": "code",
   "execution_count": null,
   "id": "2eee4934",
   "metadata": {},
   "outputs": [],
   "source": [
    "fig, axes = plt.subplots(1, 2, figsize=(12, 6), sharey=True)  # 1 linha, 2 colunas\n",
    "\n",
    "\n",
    "axes[0].hist(notas_fem, bins=10, color='lightseagreen')\n",
    "axes[0].set_title('Distribuição de Notas da Redação - Feminino')\n",
    "axes[0].set_xlabel('Nota da Redação')\n",
    "axes[0].set_ylabel('Frequência')\n",
    "axes[0].grid(color='lightgrey', linestyle='--', linewidth=0.5)\n",
    "\n",
    "\n",
    "axes[1].hist(notas_masc, bins=10, color='lightseagreen')\n",
    "axes[1].set_title('Distribuição de Notas da Redação - Masculino')\n",
    "axes[1].set_xlabel('Nota da Redação')\n",
    "axes[1].grid(color='lightgrey', linestyle='--', linewidth=0.5)\n",
    "\n",
    "\n",
    "from matplotlib.ticker import MultipleLocator\n",
    "axes[1].yaxis.set_minor_locator(MultipleLocator(base=12500))\n",
    "\n",
    "\n",
    "axes[0].grid(which='minor', color='lightgrey', linestyle='--', linewidth=0.5)\n",
    "axes[1].grid(which='minor', color='lightgrey', linestyle='--', linewidth=0.5)\n",
    "\n",
    "# Ajustar o layout\n",
    "plt.tight_layout()\n",
    "plt.show()"
   ]
  },
  {
   "cell_type": "markdown",
   "id": "0ad02a36",
   "metadata": {},
   "source": [
    "O sexo do candidato não traz informações significativas do desempenho do aluno"
   ]
  },
  {
   "cell_type": "markdown",
   "id": "7712ceb0",
   "metadata": {},
   "source": [
    "## Questionário Socieconômico"
   ]
  },
  {
   "cell_type": "markdown",
   "id": "7744e35d",
   "metadata": {},
   "source": [
    "A renda familiar do candidato até 18 anos influencia nas suas notas?"
   ]
  },
  {
   "cell_type": "code",
   "execution_count": null,
   "id": "3b138e20",
   "metadata": {},
   "outputs": [],
   "source": [
    "concat1 = dados_do_participante.filter(items=['NU_INSCRICAO', 'TP_FAIXA_ETARIA'])\n",
    "\n",
    "concat2 = dados_da_escola['SG_UF_ESC']\n",
    "\n",
    "concat3 = dados_quest_socioeco.filter(items=['Q006'])\n",
    "\n",
    "concat4 = dados_prova_objetiva.filter(items=['NU_NOTA_CN', 'NU_NOTA_CH', 'NU_NOTA_LC', 'NU_NOTA_MT'])\n",
    "\n",
    "concat5 = dados_redacao.filter(items=['NU_NOTA_REDACAO'])\n",
    "\n",
    "#Nota da prova de Ciências da Natureza\n",
    "#Nota da prova de Ciências Humanas\n",
    "#Nota da prova de Linguagens e Códigos\n",
    "#Nota da prova de Matemática"
   ]
  },
  {
   "cell_type": "code",
   "execution_count": null,
   "id": "268f6f9a",
   "metadata": {},
   "outputs": [],
   "source": [
    "notas_Q006 = pd.DataFrame()\n",
    "notas_Q006 = pd.concat([notas_Q006, concat1, concat2, concat3, concat4, concat5], axis=1)\n",
    "notas_Q006 = notas_Q006.loc[notas_Q006['TP_FAIXA_ETARIA'] < 4]"
   ]
  },
  {
   "cell_type": "code",
   "execution_count": null,
   "id": "1a5a9f29",
   "metadata": {},
   "outputs": [],
   "source": [
    "sem_na = len(notas_Q006) - len(notas_Q006.dropna(subset=['NU_NOTA_CN', 'NU_NOTA_CH', 'NU_NOTA_LC', 'NU_NOTA_MT', 'NU_NOTA_REDACAO']))\n",
    "porc_anulada = 100*sem_na/len(notas_Q006)\n",
    "\n",
    "print('Temos', len(notas_Q006), 'candidatos com até 18 anos de idade. ')\n",
    "print(f'{sem_na} ({porc_anulada:.2f}%) deles não compareceram à aplicação da prova ou tiveram a mesma anulada')"
   ]
  },
  {
   "cell_type": "code",
   "execution_count": null,
   "id": "6d80c4c6",
   "metadata": {},
   "outputs": [],
   "source": [
    "notas_Q006 = notas_Q006.dropna(subset=['NU_NOTA_CN', 'NU_NOTA_CH', 'NU_NOTA_LC', 'NU_NOTA_MT', 'NU_NOTA_REDACAO'])"
   ]
  },
  {
   "cell_type": "code",
   "execution_count": null,
   "id": "017e307e",
   "metadata": {},
   "outputs": [],
   "source": [
    "legenda_Q006 = ['Nenhuma Renda',\n",
    "                'Até 1.320,00',\n",
    "                'De 1.320,01 até 1.980,00',\n",
    "                'De 1.980,01 até 2.640,00',\n",
    "                'De 2.640,01 até 3.300,00',\n",
    "                'De 3.300,01 até 3.960,00',\n",
    "                'De 3.960,01 até 5.280,00', \n",
    "                'De 5.280,01 até 6.600,00',\n",
    "                'De 6.600,01 até 7.920,00',\n",
    "                'De 7.920,01 até 9.240,00',\n",
    "                'De 9.240,01 até 10.560,00',\n",
    "                'De 10.560,01 até 11.880,00',\n",
    "                'De 11.880,01 até 13.200,00',\n",
    "                'De 13.200,01 até 15.840,00',\n",
    "                'De 15.840,01 até 19.800,00',\n",
    "                'De 19.800,01 até 26.400,00',\n",
    "                'Acima de 26.400,00']\n",
    "\n",
    "lista = []\n",
    "\n",
    "for letra in range(ord('A'), ord('Q') + 1):\n",
    "  letra_char = chr(letra)\n",
    "  lista.append(letra_char)\n",
    "    \n",
    "dict_Q006 = dict(zip(lista, legenda_Q006))"
   ]
  },
  {
   "cell_type": "code",
   "execution_count": null,
   "id": "0562b93f",
   "metadata": {},
   "outputs": [],
   "source": [
    "respostas_Q006 = notas_Q006.filter(['NU_INSCRICAO','Q006'])\n",
    "respostas_Q006 = respostas_Q006.groupby('Q006').count()\n",
    "respostas_Q006['texto'] = [dict_Q006[x] for x in respostas_Q006.index]\n",
    "respostas_Q006 = respostas_Q006.rename(columns={'NU_INSCRICAO': 'respostas'})"
   ]
  },
  {
   "cell_type": "code",
   "execution_count": null,
   "id": "029f8e4c",
   "metadata": {},
   "outputs": [],
   "source": [
    "respostas = list(respostas_Q006['respostas'])\n",
    "texto = list(respostas_Q006['texto'])"
   ]
  },
  {
   "cell_type": "code",
   "execution_count": null,
   "id": "28582098",
   "metadata": {},
   "outputs": [],
   "source": [
    "plt.bar(texto, respostas, color='lightseagreen')\n",
    "plt.xlabel('Faixa de renda')\n",
    "plt.ylabel('Contagem de Respostas')\n",
    "plt.title('Distribuição das Respostas por Faixa de Renda (candidatos até 18 anos)')\n",
    "plt.xticks(rotation=45, ha='right')\n",
    "plt.grid(axis='y', color='lightgrey', linestyle='--', linewidth=0.5)\n",
    "plt.yticks(np.arange(0,450000,25000), minor=True)\n",
    "plt.grid(which='minor' ,axis='y', color='lightgrey', linestyle='--', linewidth=0.5)\n",
    "plt.show()"
   ]
  },
  {
   "cell_type": "code",
   "execution_count": null,
   "id": "9531aea3",
   "metadata": {},
   "outputs": [],
   "source": [
    "plt.plot(respostas, color='lightseagreen')\n",
    "plt.xticks(range(len(texto)), texto, rotation=45, ha='right')\n",
    "plt.ylabel('Quantidade de Respostas')\n",
    "plt.title('Quantidade de Respostas por Faixa de Renda (candidatos até 18 anos)')\n",
    "plt.grid(True)\n",
    "plt.tight_layout()\n",
    "plt.show()"
   ]
  },
  {
   "cell_type": "markdown",
   "id": "3b5fc65c",
   "metadata": {},
   "source": [
    "### Média das notas por renda"
   ]
  },
  {
   "cell_type": "code",
   "execution_count": null,
   "id": "e1595e41",
   "metadata": {},
   "outputs": [],
   "source": [
    "respostas_Q006['media_ciencias_naturais'] = round(notas_Q006.groupby('Q006')['NU_NOTA_CN'].mean(), 2)\n",
    "respostas_Q006['media_ciencias_humanas'] = round(notas_Q006.groupby('Q006')['NU_NOTA_CH'].mean(), 2)\n",
    "respostas_Q006['media_linguagens_codigos'] = round(notas_Q006.groupby('Q006')['NU_NOTA_LC'].mean(), 2)\n",
    "respostas_Q006['media_matematica'] = round(notas_Q006.groupby('Q006')['NU_NOTA_MT'].mean(), 2)\n",
    "respostas_Q006['media_redacao'] = round(notas_Q006.groupby('Q006')['NU_NOTA_REDACAO'].mean(), 2)\n",
    "respostas_Q006.head()"
   ]
  },
  {
   "cell_type": "code",
   "execution_count": null,
   "id": "94ed84a5",
   "metadata": {},
   "outputs": [],
   "source": [
    "plt.figure(figsize=(8,4))\n",
    "plt.plot(respostas_Q006['media_ciencias_naturais'],color='lightseagreen')\n",
    "plt.title('Notas em Ciências Naturais por Faixa de Renda\\n(candidatos até 18 anos)\\n')\n",
    "plt.xticks(range(len(texto)), texto, rotation=45, ha='right')\n",
    "plt.ylabel('Média\\n')\n",
    "plt.grid()\n",
    "plt.show()"
   ]
  },
  {
   "cell_type": "code",
   "execution_count": null,
   "id": "8fb95a1f",
   "metadata": {},
   "outputs": [],
   "source": [
    "plt.figure(figsize=(8,4))\n",
    "plt.plot(respostas_Q006['media_ciencias_humanas'], color='lightseagreen')\n",
    "plt.title('Notas em Ciências Humanas por Faixa de Renda\\n(candidatos até 18 anos)\\n')\n",
    "plt.xticks(range(len(texto)), texto, rotation=45, ha='right')\n",
    "plt.ylabel('Média\\n')\n",
    "plt.grid()\n",
    "plt.show()"
   ]
  },
  {
   "cell_type": "code",
   "execution_count": null,
   "id": "def7e6b0",
   "metadata": {},
   "outputs": [],
   "source": [
    "plt.figure(figsize=(8,4))\n",
    "plt.plot(respostas_Q006['media_linguagens_codigos'], color='lightseagreen')\n",
    "plt.title('Notas em Linguagens e Códigos por Faixa de Renda\\n(candidatos até 18 anos)\\n')\n",
    "plt.xticks(range(len(texto)), texto, rotation=45, ha='right')\n",
    "plt.ylabel('Média')\n",
    "plt.grid()\n",
    "plt.show()"
   ]
  },
  {
   "cell_type": "code",
   "execution_count": null,
   "id": "8d4c4bb9",
   "metadata": {},
   "outputs": [],
   "source": [
    "plt.figure(figsize=(8,4))\n",
    "plt.plot(respostas_Q006['media_matematica'], color='lightseagreen')\n",
    "plt.title('Notas em Matemática por Faixa de Renda\\n(candidatos até 18 anos)\\n')\n",
    "plt.xticks(range(len(texto)), texto, rotation=45, ha='right')\n",
    "plt.ylabel('Média')\n",
    "plt.grid()\n",
    "plt.show()"
   ]
  },
  {
   "cell_type": "code",
   "execution_count": null,
   "id": "9db74720",
   "metadata": {
    "scrolled": true
   },
   "outputs": [],
   "source": [
    "plt.figure(figsize=(20,4))\n",
    "plt.plot(respostas_Q006['media_redacao'], color='lightseagreen')\n",
    "plt.title('Notas na Redação por Faixa de Renda\\n(candidatos até 18 anos)\\n')\n",
    "plt.xticks(range(len(texto)), texto, rotation=45, ha='right')\n",
    "plt.ylabel('Média\\n')\n",
    "plt.grid()\n",
    "plt.show()"
   ]
  }
 ],
 "metadata": {
  "kernelspec": {
   "display_name": "Python 3 (ipykernel)",
   "language": "python",
   "name": "python3"
  },
  "language_info": {
   "codemirror_mode": {
    "name": "ipython",
    "version": 3
   },
   "file_extension": ".py",
   "mimetype": "text/x-python",
   "name": "python",
   "nbconvert_exporter": "python",
   "pygments_lexer": "ipython3",
   "version": "3.11.4"
  }
 },
 "nbformat": 4,
 "nbformat_minor": 5
}
